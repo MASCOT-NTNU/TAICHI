{
 "cells": [
  {
   "cell_type": "code",
   "execution_count": null,
   "id": "fad956a8",
   "metadata": {},
   "outputs": [],
   "source": [
    "\n",
    "from multiprocessing import Pool\n",
    "import numpy as np\n",
    "import time\n",
    "\n",
    "\n",
    "class mp:\n",
    "\n",
    "    def __init__(self):\n",
    "        pass\n",
    "\n",
    "    def compute_eibv(self, ind):\n",
    "        return ind / 2\n",
    "\n",
    "    def test_mp(self):\n",
    "        pool = Pool(processes=4)\n",
    "        indc = np.arange(100)\n",
    "        t1 = time.time()\n",
    "        res = pool.apply_async(self.compute_eibv, indc)\n",
    "        t2 = time.time()\n",
    "        print(t2 - t1)\n",
    "        t1 = time.time()\n",
    "        for i in indc:\n",
    "            self.compute_eibv(i)\n",
    "        t2 = time.time()\n",
    "        print(t2 - t1)\n",
    "        print(res.get())\n",
    "        pass\n",
    "\n",
    "if __name__ == \"__main__\":\n",
    "    m = mp()\n",
    "    m.test_mp()\n",
    "\n"
   ]
  },
  {
   "cell_type": "code",
   "execution_count": null,
   "id": "37b617f1",
   "metadata": {},
   "outputs": [],
   "source": [
    "# It turns out that mp is slower than regular python function. "
   ]
  }
 ],
 "metadata": {
  "kernelspec": {
   "display_name": "Python 3 (ipykernel)",
   "language": "python",
   "name": "python3"
  },
  "language_info": {
   "codemirror_mode": {
    "name": "ipython",
    "version": 3
   },
   "file_extension": ".py",
   "mimetype": "text/x-python",
   "name": "python",
   "nbconvert_exporter": "python",
   "pygments_lexer": "ipython3",
   "version": "3.9.13"
  }
 },
 "nbformat": 4,
 "nbformat_minor": 5
}
