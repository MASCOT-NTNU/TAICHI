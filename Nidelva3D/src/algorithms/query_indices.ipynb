{
 "cells": [
  {
   "attachments": {},
   "cell_type": "markdown",
   "id": "33fb1449",
   "metadata": {},
   "source": [
    "# Query the index of a location within the 3D grid\n",
    "\n",
    "### This functionality has been used widely throughout the program \n",
    "**Old version**\n",
    "- Input: a location formed by x,y,z coordinates\n",
    "- Output: the index of the location within the 3D grid\n",
    "**Method**:\n",
    "1. Calculate the distance between the given location and all the locations in the grid. \n",
    "2. Find the location with the smallest distance to the given location.\n",
    "3. Return the index of the location with the smallest distance to the given location.\n",
    "\n",
    "**New version**\n",
    "- Input: a location formed by x,y,z coordinates\n",
    "- Output: the index of the location within the 3D grid\n",
    "**Method**:\n",
    "1. Construct the KDTree of the 3D grid.\n",
    "2. Query the index of the given location within the KDTree.\n",
    "\n",
    "**Reasons for the change**\n",
    "- The old version is slow because it has to calculate the distance between the given location and all the locations in the grid.\n",
    "- The new version is faster because it uses KDTree to query the index of the given location.\n",
    "\n",
    "\n"
   ]
  },
  {
   "cell_type": "code",
   "execution_count": 5,
   "id": "0a6bb794",
   "metadata": {},
   "outputs": [],
   "source": [
    "import numpy as np\n",
    "from scipy.spatial import KDTree\n",
    "from scipy.spatial.distance import cdist\n",
    "from pykdtree.kdtree import KDTree as KDTree_pykdtree\n",
    "import timeit\n",
    "import matplotlib.pyplot as plt\n",
    "import time"
   ]
  },
  {
   "cell_type": "code",
   "execution_count": 2,
   "id": "e45b91ec",
   "metadata": {},
   "outputs": [],
   "source": [
    "n = 100\n",
    "xv = np.linspace(0, 1, n)\n",
    "yv = np.linspace(0, 1, n)\n",
    "zv = np.linspace(0, 1, n)\n",
    "xx, yy, zz = np.meshgrid(xv, yv, zv)\n",
    "xx = xx.flatten()\n",
    "yy = yy.flatten()\n",
    "zz = zz.flatten()\n",
    "grid = np.vstack((xx, yy, zz)).T\n",
    "\n",
    "query_points = np.random.rand(1000, 3)\n",
    "\n",
    "tree = KDTree(grid)\n",
    "tree_pykdtree = KDTree_pykdtree(grid)\n",
    "def get_ind_from_locations(loc: np.ndarray) -> np.ndarray:\n",
    "    \"\"\"\n",
    "    Get the indices of the closest grid point to the given locations.\n",
    "    \"\"\"\n",
    "    # Get the distances and indices of the closest grid point to the given locations\n",
    "    dist = cdist(loc, grid)\n",
    "    ind = np.argmin(dist, axis=1)\n",
    "    return ind\n"
   ]
  },
  {
   "cell_type": "code",
   "execution_count": 9,
   "id": "346d5f22",
   "metadata": {},
   "outputs": [
    {
     "name": "stdout",
     "output_type": "stream",
     "text": [
      "1.79 ms ± 10.8 µs per loop (mean ± std. dev. of 7 runs, 1,000 loops each)\n"
     ]
    }
   ],
   "source": [
    "# Method 1: KDTree from scipy\n",
    "%timeit tree.query(query_points, k=1)\n",
    "\n",
    "dist1, ind1 = tree.query(query_points, k=1)"
   ]
  },
  {
   "cell_type": "code",
   "execution_count": 10,
   "id": "d0d41330",
   "metadata": {},
   "outputs": [
    {
     "name": "stdout",
     "output_type": "stream",
     "text": [
      "503 µs ± 30 µs per loop (mean ± std. dev. of 7 runs, 1,000 loops each)\n"
     ]
    }
   ],
   "source": [
    "# Method 2: KDTree from pykdtree\n",
    "%timeit tree_pykdtree.query(query_points, k=1)\n",
    "dist2, ind2 = tree_pykdtree.query(query_points, k=1)"
   ]
  },
  {
   "cell_type": "code",
   "execution_count": 6,
   "id": "914eaf5a",
   "metadata": {},
   "outputs": [
    {
     "name": "stdout",
     "output_type": "stream",
     "text": [
      "Time: 4.143543004989624\n"
     ]
    }
   ],
   "source": [
    "# Method 3: get distance and indices from cdist\n",
    "t1 = time.time()\n",
    "ind3 = get_ind_from_locations(query_points)\n",
    "t2 = time.time()\n",
    "print(f\"Time: {t2-t1}\")"
   ]
  },
  {
   "cell_type": "code",
   "execution_count": 18,
   "id": "38563d98",
   "metadata": {},
   "outputs": [
    {
     "ename": "TypeError",
     "evalue": "query() got an unexpected keyword argument 'num_threads'",
     "output_type": "error",
     "traceback": [
      "\u001b[0;31m---------------------------------------------------------------------------\u001b[0m",
      "\u001b[0;31mTypeError\u001b[0m                                 Traceback (most recent call last)",
      "Cell \u001b[0;32mIn[18], line 2\u001b[0m\n\u001b[1;32m      1\u001b[0m \u001b[39m# Method 4: KDTree from pykdtree with multi-threading\u001b[39;00m\n\u001b[0;32m----> 2\u001b[0m get_ipython()\u001b[39m.\u001b[39mrun_line_magic(\u001b[39m'\u001b[39m\u001b[39mtimeit\u001b[39m\u001b[39m'\u001b[39m, \u001b[39m'\u001b[39m\u001b[39mtree_pykdtree.query(query_points, k=1, num_threads=4)\u001b[39m\u001b[39m'\u001b[39m)\n\u001b[1;32m      3\u001b[0m dist4, ind4 \u001b[39m=\u001b[39m tree_pykdtree\u001b[39m.\u001b[39mquery(query_points, k\u001b[39m=\u001b[39m\u001b[39m1\u001b[39m, num_threads\u001b[39m=\u001b[39m\u001b[39m4\u001b[39m)\n",
      "File \u001b[0;32m~/opt/anaconda3/envs/MAFIA/lib/python3.11/site-packages/IPython/core/interactiveshell.py:2414\u001b[0m, in \u001b[0;36mInteractiveShell.run_line_magic\u001b[0;34m(self, magic_name, line, _stack_depth)\u001b[0m\n\u001b[1;32m   2412\u001b[0m     kwargs[\u001b[39m'\u001b[39m\u001b[39mlocal_ns\u001b[39m\u001b[39m'\u001b[39m] \u001b[39m=\u001b[39m \u001b[39mself\u001b[39m\u001b[39m.\u001b[39mget_local_scope(stack_depth)\n\u001b[1;32m   2413\u001b[0m \u001b[39mwith\u001b[39;00m \u001b[39mself\u001b[39m\u001b[39m.\u001b[39mbuiltin_trap:\n\u001b[0;32m-> 2414\u001b[0m     result \u001b[39m=\u001b[39m fn(\u001b[39m*\u001b[39margs, \u001b[39m*\u001b[39m\u001b[39m*\u001b[39mkwargs)\n\u001b[1;32m   2416\u001b[0m \u001b[39m# The code below prevents the output from being displayed\u001b[39;00m\n\u001b[1;32m   2417\u001b[0m \u001b[39m# when using magics with decodator @output_can_be_silenced\u001b[39;00m\n\u001b[1;32m   2418\u001b[0m \u001b[39m# when the last Python token in the expression is a ';'.\u001b[39;00m\n\u001b[1;32m   2419\u001b[0m \u001b[39mif\u001b[39;00m \u001b[39mgetattr\u001b[39m(fn, magic\u001b[39m.\u001b[39mMAGIC_OUTPUT_CAN_BE_SILENCED, \u001b[39mFalse\u001b[39;00m):\n",
      "File \u001b[0;32m~/opt/anaconda3/envs/MAFIA/lib/python3.11/site-packages/IPython/core/magics/execution.py:1170\u001b[0m, in \u001b[0;36mExecutionMagics.timeit\u001b[0;34m(self, line, cell, local_ns)\u001b[0m\n\u001b[1;32m   1168\u001b[0m \u001b[39mfor\u001b[39;00m index \u001b[39min\u001b[39;00m \u001b[39mrange\u001b[39m(\u001b[39m0\u001b[39m, \u001b[39m10\u001b[39m):\n\u001b[1;32m   1169\u001b[0m     number \u001b[39m=\u001b[39m \u001b[39m10\u001b[39m \u001b[39m*\u001b[39m\u001b[39m*\u001b[39m index\n\u001b[0;32m-> 1170\u001b[0m     time_number \u001b[39m=\u001b[39m timer\u001b[39m.\u001b[39mtimeit(number)\n\u001b[1;32m   1171\u001b[0m     \u001b[39mif\u001b[39;00m time_number \u001b[39m>\u001b[39m\u001b[39m=\u001b[39m \u001b[39m0.2\u001b[39m:\n\u001b[1;32m   1172\u001b[0m         \u001b[39mbreak\u001b[39;00m\n",
      "File \u001b[0;32m~/opt/anaconda3/envs/MAFIA/lib/python3.11/site-packages/IPython/core/magics/execution.py:158\u001b[0m, in \u001b[0;36mTimer.timeit\u001b[0;34m(self, number)\u001b[0m\n\u001b[1;32m    156\u001b[0m gc\u001b[39m.\u001b[39mdisable()\n\u001b[1;32m    157\u001b[0m \u001b[39mtry\u001b[39;00m:\n\u001b[0;32m--> 158\u001b[0m     timing \u001b[39m=\u001b[39m \u001b[39mself\u001b[39m\u001b[39m.\u001b[39minner(it, \u001b[39mself\u001b[39m\u001b[39m.\u001b[39mtimer)\n\u001b[1;32m    159\u001b[0m \u001b[39mfinally\u001b[39;00m:\n\u001b[1;32m    160\u001b[0m     \u001b[39mif\u001b[39;00m gcold:\n",
      "File \u001b[0;32m<magic-timeit>:1\u001b[0m, in \u001b[0;36minner\u001b[0;34m(_it, _timer)\u001b[0m\n",
      "File \u001b[0;32mpykdtree/kdtree.pyx:134\u001b[0m, in \u001b[0;36mpykdtree.kdtree.KDTree.query\u001b[0;34m()\u001b[0m\n",
      "\u001b[0;31mTypeError\u001b[0m: query() got an unexpected keyword argument 'num_threads'"
     ]
    }
   ],
   "source": [
    "# Method 4: KDTree from pykdtree with multi-threading\n",
    "%timeit tree_pykdtree.query(query_points, k=1, num_threads=4)\n",
    "dist4, ind4 = tree_pykdtree.query(query_points, k=1, num_threads=4)"
   ]
  },
  {
   "cell_type": "code",
   "execution_count": 16,
   "id": "2e7123a5",
   "metadata": {},
   "outputs": [
    {
     "data": {
      "text/plain": [
       "True"
      ]
     },
     "execution_count": 16,
     "metadata": {},
     "output_type": "execute_result"
    }
   ],
   "source": [
    "np.all(ind1 == ind2)\n",
    "\n",
    "np.all(ind1 == ind3)\n",
    "\n",
    "np.all(ind2 == ind3)\n",
    "\n",
    "np.all(ind1 == ind4)"
   ]
  },
  {
   "cell_type": "code",
   "execution_count": null,
   "id": "7173f396",
   "metadata": {},
   "outputs": [],
   "source": []
  }
 ],
 "metadata": {
  "kernelspec": {
   "display_name": "MAFIA",
   "language": "python",
   "name": "python3"
  },
  "language_info": {
   "codemirror_mode": {
    "name": "ipython",
    "version": 3
   },
   "file_extension": ".py",
   "mimetype": "text/x-python",
   "name": "python",
   "nbconvert_exporter": "python",
   "pygments_lexer": "ipython3",
   "version": "3.11.3"
  }
 },
 "nbformat": 4,
 "nbformat_minor": 5
}
