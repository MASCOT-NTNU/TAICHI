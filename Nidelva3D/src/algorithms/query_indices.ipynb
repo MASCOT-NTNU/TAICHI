{
 "cells": [
  {
   "attachments": {},
   "cell_type": "markdown",
   "id": "33fb1449",
   "metadata": {},
   "source": [
    "# Query the index of a location within the 3D grid\n",
    "\n",
    "### This functionality has been used widely throughout the program \n",
    "**Old version**\n",
    "- Input: a location formed by x,y,z coordinates\n",
    "- Output: the index of the location within the 3D grid\n",
    "**Method**:\n",
    "1. Calculate the distance between the given location and all the locations in the grid. \n",
    "2. Find the location with the smallest distance to the given location.\n",
    "3. Return the index of the location with the smallest distance to the given location.\n",
    "\n",
    "**New version**\n",
    "- Input: a location formed by x,y,z coordinates\n",
    "- Output: the index of the location within the 3D grid\n",
    "**Method**:\n",
    "1. Construct the KDTree of the 3D grid.\n",
    "2. Query the index of the given location within the KDTree.\n",
    "\n",
    "**Reasons for the change**\n",
    "- The old version is slow because it has to calculate the distance between the given location and all the locations in the grid.\n",
    "- The new version is faster because it uses KDTree to query the index of the given location.\n",
    "\n",
    "\n"
   ]
  },
  {
   "cell_type": "code",
   "execution_count": 1,
   "id": "0a6bb794",
   "metadata": {},
   "outputs": [
    {
     "name": "stdout",
     "output_type": "stream",
     "text": [
      "Intel MKL WARNING: Support of Intel(R) Streaming SIMD Extensions 4.2 (Intel(R) SSE4.2) enabled only processors has been deprecated. Intel oneAPI Math Kernel Library 2025.0 will require Intel(R) Advanced Vector Extensions (Intel(R) AVX) instructions.\n",
      "Intel MKL WARNING: Support of Intel(R) Streaming SIMD Extensions 4.2 (Intel(R) SSE4.2) enabled only processors has been deprecated. Intel oneAPI Math Kernel Library 2025.0 will require Intel(R) Advanced Vector Extensions (Intel(R) AVX) instructions.\n"
     ]
    }
   ],
   "source": [
    "import numpy as np\n",
    "from scipy.spatial import KDTree\n",
    "from scipy.spatial.distance import cdist\n",
    "from pykdtree.kdtree import KDTree as KDTree_pykdtree\n",
    "import timeit\n",
    "import matplotlib.pyplot as plt\n",
    "import time"
   ]
  },
  {
   "cell_type": "code",
   "execution_count": 2,
   "id": "e45b91ec",
   "metadata": {},
   "outputs": [],
   "source": [
    "n = 100\n",
    "xv = np.linspace(0, 1, n)\n",
    "yv = np.linspace(0, 1, n)\n",
    "zv = np.linspace(0, 1, n)\n",
    "xx, yy, zz = np.meshgrid(xv, yv, zv)\n",
    "xx = xx.flatten()\n",
    "yy = yy.flatten()\n",
    "zz = zz.flatten()\n",
    "grid = np.vstack((xx, yy, zz)).T\n",
    "\n",
    "query_points = np.random.rand(1000, 3)\n",
    "\n",
    "tree = KDTree(grid)\n",
    "tree_pykdtree = KDTree_pykdtree(grid)\n",
    "def get_ind_from_locations(loc: np.ndarray) -> np.ndarray:\n",
    "    \"\"\"\n",
    "    Get the indices of the closest grid point to the given locations.\n",
    "    \"\"\"\n",
    "    # Get the distances and indices of the closest grid point to the given locations\n",
    "    dist = cdist(loc, grid)\n",
    "    ind = np.argmin(dist, axis=1)\n",
    "    return ind"
   ]
  },
  {
   "cell_type": "code",
   "execution_count": 9,
   "id": "346d5f22",
   "metadata": {},
   "outputs": [
    {
     "name": "stdout",
     "output_type": "stream",
     "text": [
      "1.79 ms ± 10.8 µs per loop (mean ± std. dev. of 7 runs, 1,000 loops each)\n"
     ]
    }
   ],
   "source": [
    "# Method 1: KDTree from scipy\n",
    "%timeit tree.query(query_points, k=1)\n",
    "\n",
    "dist1, ind1 = tree.query(query_points, k=1)"
   ]
  },
  {
   "cell_type": "code",
   "execution_count": 10,
   "id": "d0d41330",
   "metadata": {},
   "outputs": [
    {
     "name": "stdout",
     "output_type": "stream",
     "text": [
      "503 µs ± 30 µs per loop (mean ± std. dev. of 7 runs, 1,000 loops each)\n"
     ]
    }
   ],
   "source": [
    "# Method 2: KDTree from pykdtree\n",
    "%timeit tree_pykdtree.query(query_points, k=1)\n",
    "dist2, ind2 = tree_pykdtree.query(query_points, k=1)"
   ]
  },
  {
   "cell_type": "code",
   "execution_count": 6,
   "id": "914eaf5a",
   "metadata": {},
   "outputs": [
    {
     "name": "stdout",
     "output_type": "stream",
     "text": [
      "Time: 4.143543004989624\n"
     ]
    }
   ],
   "source": [
    "# Method 3: get distance and indices from cdist\n",
    "t1 = time.time()\n",
    "ind3 = get_ind_from_locations(query_points)\n",
    "t2 = time.time()\n",
    "print(f\"Time: {t2-t1}\")"
   ]
  },
  {
   "attachments": {},
   "cell_type": "markdown",
   "id": "38563d98",
   "metadata": {},
   "source": [
    "# Check the distance between locations that are the same as the original grid. "
   ]
  },
  {
   "cell_type": "code",
   "execution_count": 6,
   "id": "2e7123a5",
   "metadata": {},
   "outputs": [
    {
     "data": {
      "image/png": "[encoded data removed]",
      "text/plain": [
       "<Figure size 432x288 with 1 Axes>"
      ]
     },
     "metadata": {
      "needs_background": "light"
     },
     "output_type": "display_data"
    }
   ],
   "source": [
    "ind_random = np.random.randint(0, grid.shape[0], size=1000)\n",
    "query_points = grid[ind_random, :]\n",
    "\n",
    "distance, ind_min = tree_pykdtree.query(query_points, k=1)\n",
    "\n",
    "# plt.figure(figsize=(10, 10))\n",
    "# plt.plot(grid[:, 0], grid[:, 1], 'k.')\n",
    "# plt.plot(query_points[:, 0], query_points[:, 1], 'r*')\n",
    "# plt.plot(grid[ind_min, 0], grid[ind_min, 1], 'b+')\n",
    "# plt.show()\n",
    "plt.plot(distance)\n",
    "plt.show()"
   ]
  },
  {
   "cell_type": "code",
   "execution_count": null,
   "id": "7173f396",
   "metadata": {},
   "outputs": [],
   "source": []
  }
 ],
 "metadata": {
  "kernelspec": {
   "display_name": "MAFIA",
   "language": "python",
   "name": "python3"
  },
  "language_info": {
   "codemirror_mode": {
    "name": "ipython",
    "version": 3
   },
   "file_extension": ".py",
   "mimetype": "text/x-python",
   "name": "python",
   "nbconvert_exporter": "python",
   "pygments_lexer": "ipython3",
   "version": "3.11.3"
  }
 },
 "nbformat": 4,
 "nbformat_minor": 5
}
