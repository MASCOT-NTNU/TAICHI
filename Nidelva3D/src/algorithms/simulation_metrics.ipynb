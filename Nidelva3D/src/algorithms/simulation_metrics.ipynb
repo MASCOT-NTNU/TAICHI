{
 "cells": [
  {
   "cell_type": "markdown",
   "metadata": {},
   "source": [
    "# This script is used to test which metric should be calculated for the simulation\n",
    "\n",
    "Author: Yaolin Ge\n",
    "Email: geyaolin@gmail.com\n",
    "Date: 2023-07-27"
   ]
  },
  {
   "cell_type": "code",
   "execution_count": 49,
   "metadata": {},
   "outputs": [
    {
     "name": "stderr",
     "output_type": "stream",
     "text": [
      "/var/folders/jp/xhxlmldn7ng80x2wd443h8k80000gn/T/ipykernel_33519/2796820744.py:2: DeprecationWarning: Please use `pearsonr` from the `scipy.stats` namespace, the `scipy.stats.stats` namespace is deprecated.\n",
      "  from scipy.stats.stats import pearsonr\n"
     ]
    }
   ],
   "source": [
    "import numpy as np\n",
    "from scipy.stats.stats import pearsonr\n",
    "import matplotlib.pyplot as plt"
   ]
  },
  {
   "cell_type": "markdown",
   "metadata": {},
   "source": [
    "# Metric: correlation coefficient (CC)"
   ]
  },
  {
   "cell_type": "code",
   "execution_count": 43,
   "metadata": {},
   "outputs": [],
   "source": [
    "x1 = np.random.rand(100, 1)\n",
    "x2 = np.random.rand(100, 1)\n",
    "\n",
    "\n",
    "def corr1(x, y): \n",
    "    d1 = x - np.mean(x)\n",
    "    d2 = y - np.mean(y)\n",
    "\n",
    "    cov = d1.T @ d2\n",
    "\n",
    "    corr = cov / (np.std(x) * np.std(y)) / len(x)\n",
    "    return corr\n",
    "\n",
    "def corr2(x, y): \n",
    "    d1 = x - np.mean(x)\n",
    "    d2 = y - np.mean(y)\n",
    "\n",
    "    cov = d1.T @ d2\n",
    "\n",
    "    corr = cov / np.linalg.norm(d1) / np.linalg.norm(d2)\n",
    "    return corr\n",
    "\n",
    "def corr3(x, y):\n",
    "    return pearsonr(x.flatten(), y.flatten())[0]\n",
    "\n",
    "# calculate the covariance between two vectors\n",
    "def corr4(x, y):\n",
    "    # mean of x and y\n",
    "    x_mean = np.mean(x)\n",
    "    y_mean = np.mean(y)\n",
    "    # calculate covariance\n",
    "    cov = 0.0\n",
    "    sigma_x = .0\n",
    "    sigma_y = .0\n",
    "    for i in range(len(x)):\n",
    "        cov += (x[i] - x_mean) * (y[i] - y_mean)\n",
    "        sigma_x += (x[i] - x_mean) ** 2\n",
    "        sigma_y += (y[i] - y_mean) ** 2\n",
    "    cov = cov / (len(x) - 1)\n",
    "    sigma_x = np.sqrt(sigma_x / (len(x) - 1))\n",
    "    sigma_y = np.sqrt(sigma_y / (len(y) - 1))\n",
    "    return cov / (sigma_x * sigma_y)\n",
    "\n"
   ]
  },
  {
   "cell_type": "code",
   "execution_count": 40,
   "metadata": {},
   "outputs": [
    {
     "name": "stdout",
     "output_type": "stream",
     "text": [
      "421 µs ± 9.47 µs per loop (mean ± std. dev. of 7 runs, 1,000 loops each)\n"
     ]
    }
   ],
   "source": [
    "%timeit corr3(x1, x2)"
   ]
  },
  {
   "cell_type": "code",
   "execution_count": 41,
   "metadata": {},
   "outputs": [
    {
     "name": "stdout",
     "output_type": "stream",
     "text": [
      "44.8 µs ± 545 ns per loop (mean ± std. dev. of 7 runs, 10,000 loops each)\n"
     ]
    }
   ],
   "source": [
    "%timeit corr1(x1, x2)"
   ]
  },
  {
   "cell_type": "code",
   "execution_count": 42,
   "metadata": {},
   "outputs": [
    {
     "name": "stdout",
     "output_type": "stream",
     "text": [
      "21.6 µs ± 184 ns per loop (mean ± std. dev. of 7 runs, 10,000 loops each)\n"
     ]
    }
   ],
   "source": [
    "%timeit corr2(x1, x2)"
   ]
  },
  {
   "cell_type": "code",
   "execution_count": 44,
   "metadata": {},
   "outputs": [
    {
     "name": "stdout",
     "output_type": "stream",
     "text": [
      "976 µs ± 4.82 µs per loop (mean ± std. dev. of 7 runs, 1,000 loops each)\n"
     ]
    }
   ],
   "source": [
    "%timeit corr4(x1, x2)"
   ]
  },
  {
   "cell_type": "code",
   "execution_count": 45,
   "metadata": {},
   "outputs": [
    {
     "name": "stdout",
     "output_type": "stream",
     "text": [
      "[[-0.06110451]] [[-0.06110451]] -0.061104505902692896 [-0.06110451]\n"
     ]
    }
   ],
   "source": [
    "c1 = corr1(x1, x2)\n",
    "c2 = corr2(x1, x2)\n",
    "c3 = corr3(x1, x2)\n",
    "c4 = corr4(x1, x2)\n",
    "\n",
    "print(c1, c2, c3, c4)\n"
   ]
  },
  {
   "cell_type": "code",
   "execution_count": 29,
   "metadata": {},
   "outputs": [
    {
     "data": {
      "text/plain": [
       "array([-0.0362076])"
      ]
     },
     "execution_count": 29,
     "metadata": {},
     "output_type": "execute_result"
    }
   ],
   "source": []
  },
  {
   "cell_type": "markdown",
   "metadata": {},
   "source": [
    "# Metric: Classification Error (CE)"
   ]
  },
  {
   "cell_type": "code",
   "execution_count": 59,
   "metadata": {},
   "outputs": [],
   "source": [
    "x = np.random.randint(0, 100, 100)\n",
    "y = np.random.randint(0, 100, 100)\n",
    "threshold = 50\n",
    "X = np.where(x > threshold, 1, 0)\n",
    "Y = np.where(y > threshold, 1, 0)\n",
    "\n",
    "CE = np.sum(np.abs(X - Y)) / len(X)\n",
    "\n",
    "def cal_classification_error(x, y, threshold): \n",
    "    X = np.where(x > threshold, 1, 0)\n",
    "    Y = np.where(y > threshold, 1, 0)\n",
    "\n",
    "    CE = np.sum(np.abs(X - Y)) / len(X)\n",
    "    return CE\n"
   ]
  },
  {
   "cell_type": "code",
   "execution_count": 60,
   "metadata": {},
   "outputs": [
    {
     "data": {
      "text/plain": [
       "True"
      ]
     },
     "execution_count": 60,
     "metadata": {},
     "output_type": "execute_result"
    }
   ],
   "source": [
    "CE == cal_classification_error(x, y, threshold)"
   ]
  },
  {
   "cell_type": "code",
   "execution_count": 56,
   "metadata": {},
   "outputs": [
    {
     "data": {
      "text/plain": [
       "[<matplotlib.lines.Line2D at 0x1328d66d0>]"
      ]
     },
     "execution_count": 56,
     "metadata": {},
     "output_type": "execute_result"
    },
    {
     "data": {
      "image/png": "[encoded data removed]",
      "text/plain": [
       "<Figure size 432x288 with 1 Axes>"
      ]
     },
     "metadata": {
      "needs_background": "light"
     },
     "output_type": "display_data"
    }
   ],
   "source": []
  },
  {
   "cell_type": "code",
   "execution_count": null,
   "metadata": {},
   "outputs": [],
   "source": []
  }
 ],
 "metadata": {
  "kernelspec": {
   "display_name": "MAFIA",
   "language": "python",
   "name": "python3"
  },
  "language_info": {
   "codemirror_mode": {
    "name": "ipython",
    "version": 3
   },
   "file_extension": ".py",
   "mimetype": "text/x-python",
   "name": "python",
   "nbconvert_exporter": "python",
   "pygments_lexer": "ipython3",
   "version": "3.11.3"
  },
  "orig_nbformat": 4
 },
 "nbformat": 4,
 "nbformat_minor": 2
}
