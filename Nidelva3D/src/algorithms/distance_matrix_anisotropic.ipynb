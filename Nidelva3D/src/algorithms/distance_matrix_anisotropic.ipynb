{
 "cells": [
  {
   "attachments": {},
   "cell_type": "markdown",
   "metadata": {
    "collapsed": true
   },
   "source": [
    "# Calculate the distance matrix for anisotropic geospatial correlation. \n",
    "\n",
    "Author: Yaolin Ge\n",
    "Email: geyaolin@gmail.com\n",
    "Date: 2023-05-26\n",
    "\n",
    "### Methodology: \n",
    "1. Calculate the distance difference between each pair of points in x, y, z axis. \n",
    "2. Scale the z axis up by a factor of constant which is determined by the radio between the horizontal and vertical correlation length.\n",
    "3. Calculate the distance matrix using the scaled distance difference."
   ]
  },
  {
   "cell_type": "code",
   "execution_count": 2,
   "metadata": {},
   "outputs": [
    {
     "name": "stdout",
     "output_type": "stream",
     "text": [
      "Intel MKL WARNING: Support of Intel(R) Streaming SIMD Extensions 4.2 (Intel(R) SSE4.2) enabled only processors has been deprecated. Intel oneAPI Math Kernel Library 2025.0 will require Intel(R) Advanced Vector Extensions (Intel(R) AVX) instructions.\n",
      "Intel MKL WARNING: Support of Intel(R) Streaming SIMD Extensions 4.2 (Intel(R) SSE4.2) enabled only processors has been deprecated. Intel oneAPI Math Kernel Library 2025.0 will require Intel(R) Advanced Vector Extensions (Intel(R) AVX) instructions.\n"
     ]
    }
   ],
   "source": [
    "import numpy as np\n",
    "from scipy.spatial.distance import cdist"
   ]
  },
  {
   "cell_type": "code",
   "execution_count": 3,
   "metadata": {},
   "outputs": [],
   "source": [
    "N = 25\n",
    "xv = np.linspace(0, 1, N)\n",
    "yv = np.linspace(0, 1, N)\n",
    "zv = np.linspace(0, 1, N)\n",
    "\n",
    "xx, yy, zz = np.meshgrid(xv, yv, zv, indexing='ij')\n",
    "\n",
    "x = xx.flatten()\n",
    "y = yy.flatten()\n",
    "z = zz.flatten()\n",
    "grid = np.vstack((x, y, z)).T\n",
    "\n",
    "ksi = 10"
   ]
  },
  {
   "cell_type": "code",
   "execution_count": 7,
   "metadata": {},
   "outputs": [
    {
     "name": "stdout",
     "output_type": "stream",
     "text": [
      "dx:  [[-1.]]\n",
      "dy:  [[-1.]]\n",
      "dz:  [[-1.]]\n",
      "d:  [[10.09950494]]\n"
     ]
    },
    {
     "data": {
      "text/plain": [
       "array([[10.09950494]])"
      ]
     },
     "execution_count": 7,
     "metadata": {},
     "output_type": "execute_result"
    }
   ],
   "source": [
    "# Method 1: calculate distance matrix manually\n",
    "def cal_distance_matrix(grid1, grid2, ksi): \n",
    "    dx = grid1[:, 0].reshape(-1, 1) @ np.ones((1, grid2.shape[0])) - np.ones((grid1.shape[0], 1)) @ grid2[:, 0].reshape(1, -1)\n",
    "    dy = grid1[:, 1].reshape(-1, 1) @ np.ones((1, grid2.shape[0])) - np.ones((grid1.shape[0], 1)) @ grid2[:, 1].reshape(1, -1)\n",
    "    dz = grid1[:, 2].reshape(-1, 1) @ np.ones((1, grid2.shape[0])) - np.ones((grid1.shape[0], 1)) @ grid2[:, 2].reshape(1, -1)\n",
    "    d = np.sqrt(dx**2 + dy**2 + (ksi * dz)**2)\n",
    "    return d \n",
    "\n",
    "# %timeit cal_distance_matrix(grid, grid, ksi)\n",
    "\n",
    "# dm1 = cal_distance_matrix(grid, grid, ksi)\n",
    "loc1 = np.array([[0, 0, 0]])\n",
    "loc2 = np.array([[1, 1, 1]])\n",
    "\n",
    "cal_distance_matrix(loc1, loc2, ksi)"
   ]
  },
  {
   "cell_type": "code",
   "execution_count": 9,
   "metadata": {},
   "outputs": [
    {
     "data": {
      "text/plain": [
       "10.099504938362077"
      ]
     },
     "execution_count": 9,
     "metadata": {},
     "output_type": "execute_result"
    }
   ],
   "source": [
    "np.sqrt(102)"
   ]
  },
  {
   "cell_type": "code",
   "execution_count": 5,
   "metadata": {},
   "outputs": [
    {
     "ename": "KeyboardInterrupt",
     "evalue": "",
     "output_type": "error",
     "traceback": [
      "\u001b[0;31m---------------------------------------------------------------------------\u001b[0m",
      "\u001b[0;31mKeyboardInterrupt\u001b[0m                         Traceback (most recent call last)",
      "Cell \u001b[0;32mIn[5], line 9\u001b[0m\n\u001b[1;32m      6\u001b[0m     d \u001b[39m=\u001b[39m np\u001b[39m.\u001b[39msqrt(dx\u001b[39m*\u001b[39m\u001b[39m*\u001b[39m\u001b[39m2\u001b[39m \u001b[39m+\u001b[39m dy\u001b[39m*\u001b[39m\u001b[39m*\u001b[39m\u001b[39m2\u001b[39m \u001b[39m+\u001b[39m (ksi \u001b[39m*\u001b[39m dz)\u001b[39m*\u001b[39m\u001b[39m*\u001b[39m\u001b[39m2\u001b[39m)\n\u001b[1;32m      7\u001b[0m     \u001b[39mreturn\u001b[39;00m d\n\u001b[0;32m----> 9\u001b[0m get_ipython()\u001b[39m.\u001b[39mrun_line_magic(\u001b[39m'\u001b[39m\u001b[39mtimeit\u001b[39m\u001b[39m'\u001b[39m, \u001b[39m'\u001b[39m\u001b[39mcdist(grid, grid, metric=metric)\u001b[39m\u001b[39m'\u001b[39m)\n\u001b[1;32m     10\u001b[0m dm2 \u001b[39m=\u001b[39m cdist(grid, grid, metric\u001b[39m=\u001b[39mmetric)\n",
      "File \u001b[0;32m~/opt/anaconda3/envs/MAFIA/lib/python3.11/site-packages/IPython/core/interactiveshell.py:2414\u001b[0m, in \u001b[0;36mInteractiveShell.run_line_magic\u001b[0;34m(self, magic_name, line, _stack_depth)\u001b[0m\n\u001b[1;32m   2412\u001b[0m     kwargs[\u001b[39m'\u001b[39m\u001b[39mlocal_ns\u001b[39m\u001b[39m'\u001b[39m] \u001b[39m=\u001b[39m \u001b[39mself\u001b[39m\u001b[39m.\u001b[39mget_local_scope(stack_depth)\n\u001b[1;32m   2413\u001b[0m \u001b[39mwith\u001b[39;00m \u001b[39mself\u001b[39m\u001b[39m.\u001b[39mbuiltin_trap:\n\u001b[0;32m-> 2414\u001b[0m     result \u001b[39m=\u001b[39m fn(\u001b[39m*\u001b[39margs, \u001b[39m*\u001b[39m\u001b[39m*\u001b[39mkwargs)\n\u001b[1;32m   2416\u001b[0m \u001b[39m# The code below prevents the output from being displayed\u001b[39;00m\n\u001b[1;32m   2417\u001b[0m \u001b[39m# when using magics with decodator @output_can_be_silenced\u001b[39;00m\n\u001b[1;32m   2418\u001b[0m \u001b[39m# when the last Python token in the expression is a ';'.\u001b[39;00m\n\u001b[1;32m   2419\u001b[0m \u001b[39mif\u001b[39;00m \u001b[39mgetattr\u001b[39m(fn, magic\u001b[39m.\u001b[39mMAGIC_OUTPUT_CAN_BE_SILENCED, \u001b[39mFalse\u001b[39;00m):\n",
      "File \u001b[0;32m~/opt/anaconda3/envs/MAFIA/lib/python3.11/site-packages/IPython/core/magics/execution.py:1174\u001b[0m, in \u001b[0;36mExecutionMagics.timeit\u001b[0;34m(self, line, cell, local_ns)\u001b[0m\n\u001b[1;32m   1171\u001b[0m         \u001b[39mif\u001b[39;00m time_number \u001b[39m>\u001b[39m\u001b[39m=\u001b[39m \u001b[39m0.2\u001b[39m:\n\u001b[1;32m   1172\u001b[0m             \u001b[39mbreak\u001b[39;00m\n\u001b[0;32m-> 1174\u001b[0m all_runs \u001b[39m=\u001b[39m timer\u001b[39m.\u001b[39mrepeat(repeat, number)\n\u001b[1;32m   1175\u001b[0m best \u001b[39m=\u001b[39m \u001b[39mmin\u001b[39m(all_runs) \u001b[39m/\u001b[39m number\n\u001b[1;32m   1176\u001b[0m worst \u001b[39m=\u001b[39m \u001b[39mmax\u001b[39m(all_runs) \u001b[39m/\u001b[39m number\n",
      "File \u001b[0;32m~/opt/anaconda3/envs/MAFIA/lib/python3.11/timeit.py:206\u001b[0m, in \u001b[0;36mTimer.repeat\u001b[0;34m(self, repeat, number)\u001b[0m\n\u001b[1;32m    204\u001b[0m r \u001b[39m=\u001b[39m []\n\u001b[1;32m    205\u001b[0m \u001b[39mfor\u001b[39;00m i \u001b[39min\u001b[39;00m \u001b[39mrange\u001b[39m(repeat):\n\u001b[0;32m--> 206\u001b[0m     t \u001b[39m=\u001b[39m \u001b[39mself\u001b[39m\u001b[39m.\u001b[39mtimeit(number)\n\u001b[1;32m    207\u001b[0m     r\u001b[39m.\u001b[39mappend(t)\n\u001b[1;32m    208\u001b[0m \u001b[39mreturn\u001b[39;00m r\n",
      "File \u001b[0;32m~/opt/anaconda3/envs/MAFIA/lib/python3.11/site-packages/IPython/core/magics/execution.py:158\u001b[0m, in \u001b[0;36mTimer.timeit\u001b[0;34m(self, number)\u001b[0m\n\u001b[1;32m    156\u001b[0m gc\u001b[39m.\u001b[39mdisable()\n\u001b[1;32m    157\u001b[0m \u001b[39mtry\u001b[39;00m:\n\u001b[0;32m--> 158\u001b[0m     timing \u001b[39m=\u001b[39m \u001b[39mself\u001b[39m\u001b[39m.\u001b[39minner(it, \u001b[39mself\u001b[39m\u001b[39m.\u001b[39mtimer)\n\u001b[1;32m    159\u001b[0m \u001b[39mfinally\u001b[39;00m:\n\u001b[1;32m    160\u001b[0m     \u001b[39mif\u001b[39;00m gcold:\n",
      "File \u001b[0;32m<magic-timeit>:1\u001b[0m, in \u001b[0;36minner\u001b[0;34m(_it, _timer)\u001b[0m\n",
      "File \u001b[0;32m~/opt/anaconda3/envs/MAFIA/lib/python3.11/site-packages/scipy/spatial/distance.py:2933\u001b[0m, in \u001b[0;36mcdist\u001b[0;34m(XA, XB, metric, out, **kwargs)\u001b[0m\n\u001b[1;32m   2930\u001b[0m     \u001b[39mif\u001b[39;00m metric_info \u001b[39mis\u001b[39;00m \u001b[39mnot\u001b[39;00m \u001b[39mNone\u001b[39;00m:\n\u001b[1;32m   2931\u001b[0m         XA, XB, typ, kwargs \u001b[39m=\u001b[39m _validate_cdist_input(\n\u001b[1;32m   2932\u001b[0m             XA, XB, mA, mB, n, metric_info, \u001b[39m*\u001b[39m\u001b[39m*\u001b[39mkwargs)\n\u001b[0;32m-> 2933\u001b[0m     \u001b[39mreturn\u001b[39;00m _cdist_callable(XA, XB, metric\u001b[39m=\u001b[39mmetric, out\u001b[39m=\u001b[39mout, \u001b[39m*\u001b[39m\u001b[39m*\u001b[39mkwargs)\n\u001b[1;32m   2934\u001b[0m \u001b[39melif\u001b[39;00m \u001b[39misinstance\u001b[39m(metric, \u001b[39mstr\u001b[39m):\n\u001b[1;32m   2935\u001b[0m     mstr \u001b[39m=\u001b[39m metric\u001b[39m.\u001b[39mlower()\n",
      "File \u001b[0;32m~/opt/anaconda3/envs/MAFIA/lib/python3.11/site-packages/scipy/spatial/distance.py:2604\u001b[0m, in \u001b[0;36m_cdist_callable\u001b[0;34m(XA, XB, out, metric, **kwargs)\u001b[0m\n\u001b[1;32m   2602\u001b[0m \u001b[39mfor\u001b[39;00m i \u001b[39min\u001b[39;00m \u001b[39mrange\u001b[39m(mA):\n\u001b[1;32m   2603\u001b[0m     \u001b[39mfor\u001b[39;00m j \u001b[39min\u001b[39;00m \u001b[39mrange\u001b[39m(mB):\n\u001b[0;32m-> 2604\u001b[0m         dm[i, j] \u001b[39m=\u001b[39m metric(XA[i], XB[j], \u001b[39m*\u001b[39m\u001b[39m*\u001b[39mkwargs)\n\u001b[1;32m   2605\u001b[0m \u001b[39mreturn\u001b[39;00m dm\n",
      "\u001b[0;31mKeyboardInterrupt\u001b[0m: "
     ]
    }
   ],
   "source": [
    "# Method 2, use scipy.spatial.distance.cdist with metric \"user_defined\"\n",
    "def metric(loc1, loc2, ksi=ksi):\n",
    "    dx = loc1[0] - loc2[0]\n",
    "    dy = loc1[1] - loc2[1]\n",
    "    dz = loc1[2] - loc2[2]\n",
    "    d = np.sqrt(dx**2 + dy**2 + (ksi * dz)**2)\n",
    "    return d\n",
    "\n",
    "%timeit cdist(grid, grid, metric=metric)\n",
    "dm2 = cdist(grid, grid, metric=metric)"
   ]
  },
  {
   "cell_type": "code",
   "execution_count": 17,
   "metadata": {},
   "outputs": [
    {
     "data": {
      "text/plain": [
       "True"
      ]
     },
     "execution_count": 17,
     "metadata": {},
     "output_type": "execute_result"
    }
   ],
   "source": [
    "np.all(dm1 == dm2)"
   ]
  },
  {
   "cell_type": "code",
   "execution_count": null,
   "metadata": {},
   "outputs": [],
   "source": []
  }
 ],
 "metadata": {
  "kernelspec": {
   "display_name": "Python 3",
   "language": "python",
   "name": "python3"
  },
  "language_info": {
   "codemirror_mode": {
    "name": "ipython",
    "version": 3
   },
   "file_extension": ".py",
   "mimetype": "text/x-python",
   "name": "python",
   "nbconvert_exporter": "python",
   "pygments_lexer": "ipython3",
   "version": "3.11.3"
  }
 },
 "nbformat": 4,
 "nbformat_minor": 0
}
