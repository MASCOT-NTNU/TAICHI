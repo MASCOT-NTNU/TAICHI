{
 "cells": [
  {
   "attachments": {},
   "cell_type": "markdown",
   "metadata": {
    "collapsed": true
   },
   "source": [
    "# Calculate the distance matrix for anisotropic geospatial correlation. \n",
    "\n",
    "Author: Yaolin Ge\n",
    "Email: geyaolin@gmail.com\n",
    "Date: 2023-05-26\n",
    "\n",
    "### Methodology: \n",
    "1. Calculate the distance difference between each pair of points in x, y, z axis. \n",
    "2. Scale the z axis up by a factor of constant which is determined by the radio between the horizontal and vertical correlation length.\n",
    "3. Calculate the distance matrix using the scaled distance difference."
   ]
  },
  {
   "cell_type": "code",
   "execution_count": 2,
   "metadata": {},
   "outputs": [
    {
     "name": "stdout",
     "output_type": "stream",
     "text": [
      "Intel MKL WARNING: Support of Intel(R) Streaming SIMD Extensions 4.2 (Intel(R) SSE4.2) enabled only processors has been deprecated. Intel oneAPI Math Kernel Library 2025.0 will require Intel(R) Advanced Vector Extensions (Intel(R) AVX) instructions.\n",
      "Intel MKL WARNING: Support of Intel(R) Streaming SIMD Extensions 4.2 (Intel(R) SSE4.2) enabled only processors has been deprecated. Intel oneAPI Math Kernel Library 2025.0 will require Intel(R) Advanced Vector Extensions (Intel(R) AVX) instructions.\n"
     ]
    }
   ],
   "source": [
    "import numpy as np\n",
    "from scipy.spatial.distance import cdist"
   ]
  },
  {
   "cell_type": "code",
   "execution_count": 9,
   "metadata": {},
   "outputs": [],
   "source": [
    "N = 10\n",
    "xv = np.linspace(0, 1, N)\n",
    "yv = np.linspace(0, 1, N)\n",
    "zv = np.linspace(0, 1, N)\n",
    "\n",
    "xx, yy, zz = np.meshgrid(xv, yv, zv, indexing='ij')\n",
    "\n",
    "x = xx.flatten()\n",
    "y = yy.flatten()\n",
    "z = zz.flatten()\n",
    "grid = np.vstack((x, y, z)).T\n",
    "\n",
    "ksi = 10"
   ]
  },
  {
   "cell_type": "code",
   "execution_count": 14,
   "metadata": {},
   "outputs": [
    {
     "name": "stdout",
     "output_type": "stream",
     "text": [
      "9.82 ms ± 52.6 µs per loop (mean ± std. dev. of 7 runs, 100 loops each)\n"
     ]
    }
   ],
   "source": [
    "# Method 1: calculate distance matrix manually\n",
    "def cal_distance_matrix(grid1, grid2, ksi): \n",
    "    dx = grid1[:, 0].reshape(-1, 1) @ np.ones((1, grid2.shape[0])) - np.ones((grid1.shape[0], 1)) @ grid2[:, 0].reshape(1, -1)\n",
    "    dy = grid1[:, 1].reshape(-1, 1) @ np.ones((1, grid2.shape[0])) - np.ones((grid1.shape[0], 1)) @ grid2[:, 1].reshape(1, -1)\n",
    "    dz = grid1[:, 2].reshape(-1, 1) @ np.ones((1, grid2.shape[0])) - np.ones((grid1.shape[0], 1)) @ grid2[:, 2].reshape(1, -1)\n",
    "    d = np.sqrt(dx**2 + dy**2 + (ksi * dz)**2)\n",
    "    return d \n",
    "\n",
    "%timeit cal_distance_matrix(grid, grid, ksi)\n",
    "\n",
    "dm1 = cal_distance_matrix(grid, grid, ksi)"
   ]
  },
  {
   "cell_type": "code",
   "execution_count": 15,
   "metadata": {},
   "outputs": [
    {
     "name": "stdout",
     "output_type": "stream",
     "text": [
      "2.22 s ± 6 ms per loop (mean ± std. dev. of 7 runs, 1 loop each)\n"
     ]
    }
   ],
   "source": [
    "# Method 2, use scipy.spatial.distance.cdist with metric \"user_defined\"\n",
    "def metric(loc1, loc2, ksi=ksi):\n",
    "    dx = loc1[0] - loc2[0]\n",
    "    dy = loc1[1] - loc2[1]\n",
    "    dz = loc1[2] - loc2[2]\n",
    "    d = np.sqrt(dx**2 + dy**2 + (ksi * dz)**2)\n",
    "    return d\n",
    "\n",
    "%timeit cdist(grid, grid, metric=metric)\n",
    "dm2 = cdist(grid, grid, metric=metric)"
   ]
  },
  {
   "cell_type": "code",
   "execution_count": 17,
   "metadata": {},
   "outputs": [
    {
     "data": {
      "text/plain": [
       "True"
      ]
     },
     "execution_count": 17,
     "metadata": {},
     "output_type": "execute_result"
    }
   ],
   "source": [
    "np.all(dm1 == dm2)"
   ]
  },
  {
   "cell_type": "code",
   "execution_count": null,
   "metadata": {},
   "outputs": [],
   "source": []
  }
 ],
 "metadata": {
  "kernelspec": {
   "display_name": "Python 3",
   "language": "python",
   "name": "python3"
  },
  "language_info": {
   "codemirror_mode": {
    "name": "ipython",
    "version": 3
   },
   "file_extension": ".py",
   "mimetype": "text/x-python",
   "name": "python",
   "nbconvert_exporter": "python",
   "pygments_lexer": "ipython3",
   "version": "3.11.3"
  }
 },
 "nbformat": 4,
 "nbformat_minor": 0
}
