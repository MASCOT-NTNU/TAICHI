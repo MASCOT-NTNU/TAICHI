{
 "cells": [
  {
   "attachments": {},
   "cell_type": "markdown",
   "id": "62e0033d",
   "metadata": {
    "pycharm": {
     "name": "#%% md\n"
    }
   },
   "source": [
    "# This script synchronizes the AUV in-situ measurements\n",
    "\n",
    "---\n",
    "\n",
    "#### Author: Yaolin Ge\n",
    "#### Contact: yaolin.ge@ntnu.no\n",
    "#### Date: 2023-06-21\n",
    "---\n",
    "\n",
    "## It consists of three steps\n",
    "\n",
    "- Step I: extract raw data from sensor array. \n",
    "- Step II: synchronize raw data with timestamps. \n",
    "- Step III: Merge all data together\n",
    "\n",
    "---\n",
    "\n",
    "## Note: \n",
    "- CTD sensor has IMC ID: 78 which is hard-coded sometime. CTD sensor is \"Water Quality Sensor\" in Neptus from Lauv-xplore-1. \n"
   ]
  },
  {
   "cell_type": "code",
   "execution_count": 1,
   "id": "a217d475",
   "metadata": {
    "pycharm": {
     "name": "#%%\n"
    }
   },
   "outputs": [
    {
     "name": "stdout",
     "output_type": "stream",
     "text": [
      "Intel MKL WARNING: Support of Intel(R) Streaming SIMD Extensions 4.2 (Intel(R) SSE4.2) enabled only processors has been deprecated. Intel oneAPI Math Kernel Library 2025.0 will require Intel(R) Advanced Vector Extensions (Intel(R) AVX) instructions.\n",
      "Intel MKL WARNING: Support of Intel(R) Streaming SIMD Extensions 4.2 (Intel(R) SSE4.2) enabled only processors has been deprecated. Intel oneAPI Math Kernel Library 2025.0 will require Intel(R) Advanced Vector Extensions (Intel(R) AVX) instructions.\n"
     ]
    }
   ],
   "source": [
    "import os\n",
    "import re\n",
    "import pandas as pd\n",
    "import numpy as np\n",
    "import time\n",
    "from datetime import datetime\n",
    "import matplotlib.pyplot as plt\n",
    "from matplotlib.cm import get_cmap\n",
    "\n",
    "datapath = \"/Users/yaolin/OneDrive - NTNU/MASCOT_PhD/Data/Nidelva/20230621/TAICHI/083723_follow_ntnu/mra/csv/\"\n"
   ]
  },
  {
   "attachments": {},
   "cell_type": "markdown",
   "id": "4b28768b",
   "metadata": {
    "pycharm": {
     "name": "#%% md\n"
    }
   },
   "source": [
    "# Step I: extract raw data"
   ]
  },
  {
   "cell_type": "code",
   "execution_count": 2,
   "id": "a738ea6c",
   "metadata": {
    "pycharm": {
     "name": "#%%\n"
    }
   },
   "outputs": [],
   "source": [
    "#% Data extraction from the raw data\n",
    "rawLoc = pd.read_csv(datapath + \"EstimatedState.csv\", delimiter=', ', header=0, engine='python')\n",
    "rawSal = pd.read_csv(datapath + \"Salinity.csv\", delimiter=', ', header=0, engine='python')\n",
    "rawTemp = pd.read_csv(datapath + \"Temperature.csv\", delimiter=', ', header=0, engine='python')\n",
    "rawDepth = pd.read_csv(datapath + \"Depth.csv\", delimiter=', ', header=0, engine='python')\n",
    "\n",
    "# To group all the time stamp together, since only second accuracy matters\n",
    "rawSal.iloc[:, 0] = np.ceil(rawSal.iloc[:, 0])\n",
    "rawTemp.iloc[:, 0] = np.ceil(rawTemp.iloc[:, 0])\n",
    "rawCTDTemp = rawTemp[rawTemp.iloc[:, 2] == 78]\n",
    "rawLoc.iloc[:, 0] = np.ceil(rawLoc.iloc[:, 0])\n",
    "rawDepth.iloc[:, 0] = np.ceil(rawDepth.iloc[:, 0])\n",
    "rawDepth.iloc[:, 0] = np.ceil(rawDepth.iloc[:, 0])"
   ]
  },
  {
   "cell_type": "code",
   "execution_count": 6,
   "id": "89288b9b",
   "metadata": {},
   "outputs": [
    {
     "data": {
      "text/html": [
       "<div>\n",
       "<style scoped>\n",
       "    .dataframe tbody tr th:only-of-type {\n",
       "        vertical-align: middle;\n",
       "    }\n",
       "\n",
       "    .dataframe tbody tr th {\n",
       "        vertical-align: top;\n",
       "    }\n",
       "\n",
       "    .dataframe thead th {\n",
       "        text-align: right;\n",
       "    }\n",
       "</style>\n",
       "<table border=\"1\" class=\"dataframe\">\n",
       "  <thead>\n",
       "    <tr style=\"text-align: right;\">\n",
       "      <th></th>\n",
       "      <th>timestamp (seconds since 01/01/1970)</th>\n",
       "      <th>system</th>\n",
       "      <th>entity</th>\n",
       "      <th>value (°c)</th>\n",
       "    </tr>\n",
       "  </thead>\n",
       "  <tbody>\n",
       "    <tr>\n",
       "      <th>0</th>\n",
       "      <td>1.687337e+09</td>\n",
       "      <td>lauv-thor</td>\n",
       "      <td>53</td>\n",
       "      <td>28.000000</td>\n",
       "    </tr>\n",
       "    <tr>\n",
       "      <th>1</th>\n",
       "      <td>1.687337e+09</td>\n",
       "      <td>lauv-thor</td>\n",
       "      <td>53</td>\n",
       "      <td>28.000000</td>\n",
       "    </tr>\n",
       "    <tr>\n",
       "      <th>2</th>\n",
       "      <td>1.687337e+09</td>\n",
       "      <td>lauv-thor</td>\n",
       "      <td>53</td>\n",
       "      <td>28.000000</td>\n",
       "    </tr>\n",
       "    <tr>\n",
       "      <th>3</th>\n",
       "      <td>1.687337e+09</td>\n",
       "      <td>lauv-thor</td>\n",
       "      <td>53</td>\n",
       "      <td>28.000000</td>\n",
       "    </tr>\n",
       "    <tr>\n",
       "      <th>4</th>\n",
       "      <td>1.687337e+09</td>\n",
       "      <td>lauv-thor</td>\n",
       "      <td>53</td>\n",
       "      <td>28.000000</td>\n",
       "    </tr>\n",
       "    <tr>\n",
       "      <th>...</th>\n",
       "      <td>...</td>\n",
       "      <td>...</td>\n",
       "      <td>...</td>\n",
       "      <td>...</td>\n",
       "    </tr>\n",
       "    <tr>\n",
       "      <th>165827</th>\n",
       "      <td>1.687345e+09</td>\n",
       "      <td>lauv-thor</td>\n",
       "      <td>71</td>\n",
       "      <td>44.437000</td>\n",
       "    </tr>\n",
       "    <tr>\n",
       "      <th>165828</th>\n",
       "      <td>1.687345e+09</td>\n",
       "      <td>lauv-thor</td>\n",
       "      <td>53</td>\n",
       "      <td>29.500000</td>\n",
       "    </tr>\n",
       "    <tr>\n",
       "      <th>165829</th>\n",
       "      <td>1.687345e+09</td>\n",
       "      <td>lauv-thor</td>\n",
       "      <td>62</td>\n",
       "      <td>18.197418</td>\n",
       "    </tr>\n",
       "    <tr>\n",
       "      <th>165830</th>\n",
       "      <td>1.687345e+09</td>\n",
       "      <td>lauv-thor</td>\n",
       "      <td>62</td>\n",
       "      <td>18.197418</td>\n",
       "    </tr>\n",
       "    <tr>\n",
       "      <th>165831</th>\n",
       "      <td>1.687345e+09</td>\n",
       "      <td>lauv-thor</td>\n",
       "      <td>53</td>\n",
       "      <td>29.000000</td>\n",
       "    </tr>\n",
       "  </tbody>\n",
       "</table>\n",
       "<p>165832 rows × 4 columns</p>\n",
       "</div>"
      ],
      "text/plain": [
       "        timestamp (seconds since 01/01/1970)     system  entity   value (°c)\n",
       "0                               1.687337e+09  lauv-thor       53   28.000000\n",
       "1                               1.687337e+09  lauv-thor       53   28.000000\n",
       "2                               1.687337e+09  lauv-thor       53   28.000000\n",
       "3                               1.687337e+09  lauv-thor       53   28.000000\n",
       "4                               1.687337e+09  lauv-thor       53   28.000000\n",
       "...                                      ...        ...      ...         ...\n",
       "165827                          1.687345e+09  lauv-thor       71   44.437000\n",
       "165828                          1.687345e+09  lauv-thor       53   29.500000\n",
       "165829                          1.687345e+09  lauv-thor       62   18.197418\n",
       "165830                          1.687345e+09  lauv-thor       62   18.197418\n",
       "165831                          1.687345e+09  lauv-thor       53   29.000000\n",
       "\n",
       "[165832 rows x 4 columns]"
      ]
     },
     "execution_count": 6,
     "metadata": {},
     "output_type": "execute_result"
    }
   ],
   "source": [
    "rawTemp"
   ]
  },
  {
   "attachments": {},
   "cell_type": "markdown",
   "id": "99f539e5",
   "metadata": {
    "pycharm": {
     "name": "#%% md\n"
    }
   },
   "source": [
    "# Step II: synchronize with timestamps"
   ]
  },
  {
   "cell_type": "code",
   "execution_count": 5,
   "id": "59d2b0c0",
   "metadata": {
    "pycharm": {
     "name": "#%%\n"
    }
   },
   "outputs": [],
   "source": [
    "lat_origin = rawLoc[\"lat (rad)\"].groupby(rawLoc[\"timestamp (seconds since 01/01/1970)\"]).mean()\n",
    "lon_origin = rawLoc[\"lon (rad)\"].groupby(rawLoc[\"timestamp (seconds since 01/01/1970)\"]).mean()\n",
    "x_loc = rawLoc[\"x (m)\"].groupby(rawLoc[\"timestamp (seconds since 01/01/1970)\"]).mean()\n",
    "y_loc = rawLoc[\"y (m)\"].groupby(rawLoc[\"timestamp (seconds since 01/01/1970)\"]).mean()\n",
    "z_loc = rawLoc[\"z (m)\"].groupby(rawLoc[\"timestamp (seconds since 01/01/1970)\"]).mean()\n",
    "depth = rawLoc[\"depth (m)\"].groupby(rawLoc[\"timestamp (seconds since 01/01/1970)\"]).mean()\n",
    "time_loc = rawLoc[\"timestamp (seconds since 01/01/1970)\"].groupby(rawLoc[\"timestamp (seconds since 01/01/1970)\"]).mean()\n",
    "time_sal= rawSal[\"timestamp (seconds since 01/01/1970)\"].groupby(rawSal[\"timestamp (seconds since 01/01/1970)\"]).mean()\n",
    "time_temp = rawCTDTemp[\"timestamp (seconds since 01/01/1970)\"].groupby(rawCTDTemp[\"timestamp (seconds since 01/01/1970)\"]).mean()\n",
    "dataSal = rawSal[\"value (psu)\"].groupby(rawSal[\"timestamp (seconds since 01/01/1970)\"]).mean()\n",
    "dataTemp = rawCTDTemp.iloc[:, -1].groupby(rawCTDTemp[\"timestamp (seconds since 01/01/1970)\"]).mean()\n",
    "\n"
   ]
  },
  {
   "attachments": {},
   "cell_type": "markdown",
   "id": "97a28374",
   "metadata": {
    "pycharm": {
     "name": "#%% md\n"
    }
   },
   "source": [
    "# Step III: merge all synchronized data"
   ]
  },
  {
   "cell_type": "code",
   "execution_count": 10,
   "id": "bb4f6e22",
   "metadata": {},
   "outputs": [
    {
     "data": {
      "text/plain": [
       "timestamp (seconds since 01/01/1970)\n",
       "1.687337e+09    1.687337e+09\n",
       "1.687337e+09    1.687337e+09\n",
       "1.687337e+09    1.687337e+09\n",
       "1.687337e+09    1.687337e+09\n",
       "1.687337e+09    1.687337e+09\n",
       "                    ...     \n",
       "1.687345e+09    1.687345e+09\n",
       "1.687345e+09    1.687345e+09\n",
       "1.687345e+09    1.687345e+09\n",
       "1.687345e+09    1.687345e+09\n",
       "1.687345e+09    1.687345e+09\n",
       "Name: timestamp (seconds since 01/01/1970), Length: 7882, dtype: float64"
      ]
     },
     "execution_count": 10,
     "metadata": {},
     "output_type": "execute_result"
    }
   ],
   "source": []
  },
  {
   "cell_type": "code",
   "execution_count": 12,
   "id": "0d615b6a",
   "metadata": {
    "pycharm": {
     "name": "#%%\n"
    }
   },
   "outputs": [
    {
     "name": "stdout",
     "output_type": "stream",
     "text": [
      "2023-06-21 10:37:24\n",
      "2023-06-21 12:11:34\n",
      "2023-06-21 12:11:42\n",
      "2023-06-21 12:11:52\n",
      "2023-06-21 12:12:06\n",
      "2023-06-21 12:12:09\n",
      "2023-06-21 12:48:45\n"
     ]
    }
   ],
   "source": [
    "circumference = 40075000\n",
    "data = []\n",
    "time_mission = []\n",
    "xauv = []\n",
    "yauv = []\n",
    "zauv = []\n",
    "dauv = []\n",
    "sal_auv = []\n",
    "temp_auv = []\n",
    "lat_auv = []\n",
    "lon_auv = []\n",
    "\n",
    "for i in range(len(time_loc)):\n",
    "    if np.any(time_sal.isin([time_loc.iloc[i]])):\n",
    "        time_mission.append(time_loc.iloc[i])\n",
    "        xauv.append(x_loc.iloc[i])\n",
    "        yauv.append(y_loc.iloc[i])\n",
    "        zauv.append(z_loc.iloc[i])\n",
    "        dauv.append(depth.iloc[i])\n",
    "        lat_temp = np.rad2deg(lat_origin.iloc[i]) + np.rad2deg(x_loc.iloc[i] * np.pi * 2.0 / circumference)\n",
    "        lat_auv.append(lat_temp)\n",
    "        lon_auv.append(np.rad2deg(lon_origin.iloc[i]) + np.rad2deg(y_loc.iloc[i] * np.pi * 2.0 / (circumference * np.cos(np.deg2rad(lat_temp)))))\n",
    "        sal_auv.append(dataSal[time_sal.isin([time_loc.iloc[i]])].iloc[0])\n",
    "        # temp_auv.append(dataTemp[time_temp.isin([time_loc.iloc[i]])].iloc[0])\n",
    "    else:\n",
    "        print(datetime.fromtimestamp(time_loc.iloc[i]))\n",
    "        continue\n",
    "\n"
   ]
  },
  {
   "cell_type": "code",
   "execution_count": 15,
   "id": "787a5c02",
   "metadata": {
    "pycharm": {
     "name": "#%%\n"
    }
   },
   "outputs": [
    {
     "name": "stderr",
     "output_type": "stream",
     "text": [
      "/var/folders/jp/xhxlmldn7ng80x2wd443h8k80000gn/T/ipykernel_63460/3654819079.py:2: MatplotlibDeprecationWarning: The get_cmap function was deprecated in Matplotlib 3.7 and will be removed two minor releases later. Use ``matplotlib.colormaps[name]`` or ``matplotlib.colormaps.get_cmap(obj)`` instead.\n",
      "  plt.scatter(lon_auv, lat_auv, c=sal_auv, cmap=get_cmap(\"BrBG\", 10), vmin=17, vmax=22)\n"
     ]
    },
    {
     "data": {
      "image/png": "[encoded data removed]",
      "text/plain": [
       "<Figure size 432x288 with 2 Axes>"
      ]
     },
     "metadata": {
      "needs_background": "light"
     },
     "output_type": "display_data"
    }
   ],
   "source": [
    "# plot salinity\n",
    "plt.scatter(lon_auv, lat_auv, c=sal_auv, cmap=get_cmap(\"BrBG\", 10), vmin=17, vmax=22)\n",
    "plt.colorbar()\n",
    "plt.show()\n",
    "\n",
    "# plot temperature\n",
    "# plt.scatter(lon_auv, lat_auv, c=temp_auv, cmap=get_cmap(\"RdBu\", 20))\n",
    "# plt.colorbar()\n",
    "# plt.show()\n"
   ]
  },
  {
   "cell_type": "code",
   "execution_count": 47,
   "id": "f3fe416b",
   "metadata": {
    "pycharm": {
     "name": "#%%\n"
    }
   },
   "outputs": [],
   "source": [
    "dataset = np.stack((time_mission, lat_auv, lon_auv, dauv, sal_auv, temp_auv), axis=1)\n",
    "df = pd.DataFrame(dataset, columns=['timestamp', 'lat', 'lon', 'depth', 'salinity', 'temperature'])\n",
    "df.to_csv(\"csv/AUVData.csv\", index=False)"
   ]
  },
  {
   "cell_type": "code",
   "execution_count": null,
   "id": "aecad983",
   "metadata": {},
   "outputs": [],
   "source": []
  }
 ],
 "metadata": {
  "kernelspec": {
   "display_name": "MAFIA",
   "language": "python",
   "name": "python3"
  },
  "language_info": {
   "codemirror_mode": {
    "name": "ipython",
    "version": 3
   },
   "file_extension": ".py",
   "mimetype": "text/x-python",
   "name": "python",
   "nbconvert_exporter": "python",
   "pygments_lexer": "ipython3",
   "version": "3.11.3"
  }
 },
 "nbformat": 4,
 "nbformat_minor": 5
}
