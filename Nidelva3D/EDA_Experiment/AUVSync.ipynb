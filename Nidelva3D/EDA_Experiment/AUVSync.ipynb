{
 "cells": [
  {
   "attachments": {},
   "cell_type": "markdown",
   "id": "62e0033d",
   "metadata": {
    "pycharm": {
     "name": "#%% md\n"
    }
   },
   "source": [
    "# This script synchronizes the AUV in-situ measurements\n",
    "\n",
    "---\n",
    "\n",
    "#### Author: Yaolin Ge\n",
    "#### Contact: yaolin.ge@ntnu.no\n",
    "#### Date: 2023-06-21\n",
    "---\n",
    "\n",
    "## It consists of three steps\n",
    "\n",
    "- Step I: extract raw data from sensor array. \n",
    "- Step II: synchronize raw data with timestamps. \n",
    "- Step III: Merge all data together\n",
    "\n",
    "---\n",
    "\n",
    "## Note: \n",
    "- CTD sensor has IMC ID: 78 which is hard-coded sometime. CTD sensor is \"Water Quality Sensor\" in Neptus from Lauv-xplore-1. \n"
   ]
  },
  {
   "cell_type": "code",
   "execution_count": 1,
   "id": "a217d475",
   "metadata": {
    "pycharm": {
     "name": "#%%\n"
    }
   },
   "outputs": [
    {
     "name": "stdout",
     "output_type": "stream",
     "text": [
      "Intel MKL WARNING: Support of Intel(R) Streaming SIMD Extensions 4.2 (Intel(R) SSE4.2) enabled only processors has been deprecated. Intel oneAPI Math Kernel Library 2025.0 will require Intel(R) Advanced Vector Extensions (Intel(R) AVX) instructions.\n",
      "Intel MKL WARNING: Support of Intel(R) Streaming SIMD Extensions 4.2 (Intel(R) SSE4.2) enabled only processors has been deprecated. Intel oneAPI Math Kernel Library 2025.0 will require Intel(R) Advanced Vector Extensions (Intel(R) AVX) instructions.\n"
     ]
    }
   ],
   "source": [
    "import os\n",
    "import re\n",
    "import pandas as pd\n",
    "import numpy as np\n",
    "import time\n",
    "from datetime import datetime\n",
    "import matplotlib.pyplot as plt\n",
    "from matplotlib.cm import get_cmap\n",
    "\n",
    "datapath = \"/Users/yaolin/OneDrive - NTNU/MASCOT_PhD/Data/Nidelva/20220908/AUV_Download/lauv-roald/20220908/105000_follow_ntnu/mra/csv/\"\n"
   ]
  },
  {
   "attachments": {},
   "cell_type": "markdown",
   "id": "4b28768b",
   "metadata": {
    "pycharm": {
     "name": "#%% md\n"
    }
   },
   "source": [
    "# Step I: extract raw data"
   ]
  },
  {
   "cell_type": "code",
   "execution_count": 34,
   "id": "a738ea6c",
   "metadata": {
    "pycharm": {
     "name": "#%%\n"
    }
   },
   "outputs": [],
   "source": [
    "#% Data extraction from the raw data\n",
    "rawLoc = pd.read_csv(datapath + \"EstimatedState.csv\", delimiter=', ', header=0, engine='python')\n",
    "rawSal = pd.read_csv(datapath + \"Salinity.csv\", delimiter=', ', header=0, engine='python')\n",
    "rawTemp = pd.read_csv(datapath + \"Temperature.csv\", delimiter=', ', header=0, engine='python')\n",
    "rawDepth = pd.read_csv(datapath + \"Depth.csv\", delimiter=', ', header=0, engine='python')\n",
    "\n",
    "# To group all the time stamp together, since only second accuracy matters\n",
    "rawSal.iloc[:, 0] = np.ceil(rawSal.iloc[:, 0])\n",
    "rawTemp.iloc[:, 0] = np.ceil(rawTemp.iloc[:, 0])\n",
    "rawCTDTemp = rawTemp[rawTemp.iloc[:, 2] == 70]\n",
    "rawLoc.iloc[:, 0] = np.ceil(rawLoc.iloc[:, 0])\n",
    "rawDepth.iloc[:, 0] = np.ceil(rawDepth.iloc[:, 0])\n",
    "rawDepth.iloc[:, 0] = np.ceil(rawDepth.iloc[:, 0])"
   ]
  },
  {
   "cell_type": "code",
   "execution_count": 35,
   "id": "89288b9b",
   "metadata": {},
   "outputs": [
    {
     "data": {
      "text/html": [
       "<div>\n",
       "<style scoped>\n",
       "    .dataframe tbody tr th:only-of-type {\n",
       "        vertical-align: middle;\n",
       "    }\n",
       "\n",
       "    .dataframe tbody tr th {\n",
       "        vertical-align: top;\n",
       "    }\n",
       "\n",
       "    .dataframe thead th {\n",
       "        text-align: right;\n",
       "    }\n",
       "</style>\n",
       "<table border=\"1\" class=\"dataframe\">\n",
       "  <thead>\n",
       "    <tr style=\"text-align: right;\">\n",
       "      <th></th>\n",
       "      <th>timestamp (seconds since 01/01/1970)</th>\n",
       "      <th>system</th>\n",
       "      <th>entity</th>\n",
       "      <th>value (°c)</th>\n",
       "    </tr>\n",
       "  </thead>\n",
       "  <tbody>\n",
       "    <tr>\n",
       "      <th>1</th>\n",
       "      <td>1.662634e+09</td>\n",
       "      <td>lauv-roald</td>\n",
       "      <td>70</td>\n",
       "      <td>14.100</td>\n",
       "    </tr>\n",
       "    <tr>\n",
       "      <th>35</th>\n",
       "      <td>1.662634e+09</td>\n",
       "      <td>lauv-roald</td>\n",
       "      <td>70</td>\n",
       "      <td>14.099</td>\n",
       "    </tr>\n",
       "    <tr>\n",
       "      <th>42</th>\n",
       "      <td>1.662634e+09</td>\n",
       "      <td>lauv-roald</td>\n",
       "      <td>70</td>\n",
       "      <td>14.103</td>\n",
       "    </tr>\n",
       "    <tr>\n",
       "      <th>55</th>\n",
       "      <td>1.662634e+09</td>\n",
       "      <td>lauv-roald</td>\n",
       "      <td>70</td>\n",
       "      <td>14.104</td>\n",
       "    </tr>\n",
       "    <tr>\n",
       "      <th>66</th>\n",
       "      <td>1.662634e+09</td>\n",
       "      <td>lauv-roald</td>\n",
       "      <td>70</td>\n",
       "      <td>14.098</td>\n",
       "    </tr>\n",
       "    <tr>\n",
       "      <th>...</th>\n",
       "      <td>...</td>\n",
       "      <td>...</td>\n",
       "      <td>...</td>\n",
       "      <td>...</td>\n",
       "    </tr>\n",
       "    <tr>\n",
       "      <th>114485</th>\n",
       "      <td>1.662639e+09</td>\n",
       "      <td>lauv-roald</td>\n",
       "      <td>70</td>\n",
       "      <td>14.028</td>\n",
       "    </tr>\n",
       "    <tr>\n",
       "      <th>114498</th>\n",
       "      <td>1.662639e+09</td>\n",
       "      <td>lauv-roald</td>\n",
       "      <td>70</td>\n",
       "      <td>14.015</td>\n",
       "    </tr>\n",
       "    <tr>\n",
       "      <th>114507</th>\n",
       "      <td>1.662639e+09</td>\n",
       "      <td>lauv-roald</td>\n",
       "      <td>70</td>\n",
       "      <td>14.002</td>\n",
       "    </tr>\n",
       "    <tr>\n",
       "      <th>114523</th>\n",
       "      <td>1.662639e+09</td>\n",
       "      <td>lauv-roald</td>\n",
       "      <td>70</td>\n",
       "      <td>13.985</td>\n",
       "    </tr>\n",
       "    <tr>\n",
       "      <th>114531</th>\n",
       "      <td>1.662639e+09</td>\n",
       "      <td>lauv-roald</td>\n",
       "      <td>70</td>\n",
       "      <td>13.978</td>\n",
       "    </tr>\n",
       "  </tbody>\n",
       "</table>\n",
       "<p>9926 rows × 4 columns</p>\n",
       "</div>"
      ],
      "text/plain": [
       "        timestamp (seconds since 01/01/1970)      system  entity   value (°c)\n",
       "1                               1.662634e+09  lauv-roald       70      14.100\n",
       "35                              1.662634e+09  lauv-roald       70      14.099\n",
       "42                              1.662634e+09  lauv-roald       70      14.103\n",
       "55                              1.662634e+09  lauv-roald       70      14.104\n",
       "66                              1.662634e+09  lauv-roald       70      14.098\n",
       "...                                      ...         ...      ...         ...\n",
       "114485                          1.662639e+09  lauv-roald       70      14.028\n",
       "114498                          1.662639e+09  lauv-roald       70      14.015\n",
       "114507                          1.662639e+09  lauv-roald       70      14.002\n",
       "114523                          1.662639e+09  lauv-roald       70      13.985\n",
       "114531                          1.662639e+09  lauv-roald       70      13.978\n",
       "\n",
       "[9926 rows x 4 columns]"
      ]
     },
     "execution_count": 35,
     "metadata": {},
     "output_type": "execute_result"
    }
   ],
   "source": [
    "rawCTDTemp"
   ]
  },
  {
   "attachments": {},
   "cell_type": "markdown",
   "id": "99f539e5",
   "metadata": {
    "pycharm": {
     "name": "#%% md\n"
    }
   },
   "source": [
    "# Step II: synchronize with timestamps"
   ]
  },
  {
   "cell_type": "code",
   "execution_count": 36,
   "id": "59d2b0c0",
   "metadata": {
    "pycharm": {
     "name": "#%%\n"
    }
   },
   "outputs": [],
   "source": [
    "lat_origin = rawLoc[\"lat (rad)\"].groupby(rawLoc[\"timestamp (seconds since 01/01/1970)\"]).mean()\n",
    "lon_origin = rawLoc[\"lon (rad)\"].groupby(rawLoc[\"timestamp (seconds since 01/01/1970)\"]).mean()\n",
    "x_loc = rawLoc[\"x (m)\"].groupby(rawLoc[\"timestamp (seconds since 01/01/1970)\"]).mean()\n",
    "y_loc = rawLoc[\"y (m)\"].groupby(rawLoc[\"timestamp (seconds since 01/01/1970)\"]).mean()\n",
    "z_loc = rawLoc[\"z (m)\"].groupby(rawLoc[\"timestamp (seconds since 01/01/1970)\"]).mean()\n",
    "depth = rawLoc[\"depth (m)\"].groupby(rawLoc[\"timestamp (seconds since 01/01/1970)\"]).mean()\n",
    "time_loc = rawLoc[\"timestamp (seconds since 01/01/1970)\"].groupby(rawLoc[\"timestamp (seconds since 01/01/1970)\"]).mean()\n",
    "time_sal= rawSal[\"timestamp (seconds since 01/01/1970)\"].groupby(rawSal[\"timestamp (seconds since 01/01/1970)\"]).mean()\n",
    "time_temp = rawCTDTemp[\"timestamp (seconds since 01/01/1970)\"].groupby(rawCTDTemp[\"timestamp (seconds since 01/01/1970)\"]).mean()\n",
    "dataSal = rawSal[\"value (psu)\"].groupby(rawSal[\"timestamp (seconds since 01/01/1970)\"]).mean()\n",
    "dataTemp = rawCTDTemp.iloc[:, -1].groupby(rawCTDTemp[\"timestamp (seconds since 01/01/1970)\"]).mean()\n",
    "\n"
   ]
  },
  {
   "attachments": {},
   "cell_type": "markdown",
   "id": "97a28374",
   "metadata": {
    "pycharm": {
     "name": "#%% md\n"
    }
   },
   "source": [
    "# Step III: merge all synchronized data"
   ]
  },
  {
   "cell_type": "code",
   "execution_count": 39,
   "id": "bb4f6e22",
   "metadata": {},
   "outputs": [
    {
     "data": {
      "text/plain": [
       "timestamp (seconds since 01/01/1970)\n",
       "1.662634e+09    1.662634e+09\n",
       "1.662634e+09    1.662634e+09\n",
       "1.662634e+09    1.662634e+09\n",
       "1.662634e+09    1.662634e+09\n",
       "1.662634e+09    1.662634e+09\n",
       "                    ...     \n",
       "1.662639e+09    1.662639e+09\n",
       "1.662639e+09    1.662639e+09\n",
       "1.662639e+09    1.662639e+09\n",
       "1.662639e+09    1.662639e+09\n",
       "1.662639e+09    1.662639e+09\n",
       "Name: timestamp (seconds since 01/01/1970), Length: 4963, dtype: float64"
      ]
     },
     "execution_count": 39,
     "metadata": {},
     "output_type": "execute_result"
    }
   ],
   "source": [
    "time_loc"
   ]
  },
  {
   "cell_type": "code",
   "execution_count": 41,
   "id": "0d615b6a",
   "metadata": {
    "pycharm": {
     "name": "#%%\n"
    }
   },
   "outputs": [],
   "source": [
    "circumference = 40075000\n",
    "data = []\n",
    "time_mission = []\n",
    "xauv = []\n",
    "yauv = []\n",
    "zauv = []\n",
    "dauv = []\n",
    "sal_auv = []\n",
    "temp_auv = []\n",
    "lat_auv = []\n",
    "lon_auv = []\n",
    "\n",
    "for i in range(len(time_loc)):\n",
    "    if np.any((time_sal.isin([time_loc.iloc[i]])) * (time_temp.isin([time_loc.iloc[i]]))):\n",
    "        time_mission.append(time_loc.iloc[i])\n",
    "        xauv.append(x_loc.iloc[i])\n",
    "        yauv.append(y_loc.iloc[i])\n",
    "        zauv.append(z_loc.iloc[i])\n",
    "        dauv.append(depth.iloc[i])\n",
    "        lat_temp = np.rad2deg(lat_origin.iloc[i]) + np.rad2deg(x_loc.iloc[i] * np.pi * 2.0 / circumference)\n",
    "        lat_auv.append(lat_temp)\n",
    "        lon_auv.append(np.rad2deg(lon_origin.iloc[i]) + np.rad2deg(y_loc.iloc[i] * np.pi * 2.0 / (circumference * np.cos(np.deg2rad(lat_temp)))))\n",
    "        sal_auv.append(dataSal[time_sal.isin([time_loc.iloc[i]])].iloc[0])\n",
    "        temp_auv.append(dataTemp[time_temp.isin([time_loc.iloc[i]])].iloc[0])\n",
    "    else:\n",
    "        print(datetime.fromtimestamp(time_loc.iloc[i]))\n",
    "        continue"
   ]
  },
  {
   "cell_type": "code",
   "execution_count": 42,
   "id": "787a5c02",
   "metadata": {
    "pycharm": {
     "name": "#%%\n"
    }
   },
   "outputs": [
    {
     "name": "stderr",
     "output_type": "stream",
     "text": [
      "/var/folders/jp/xhxlmldn7ng80x2wd443h8k80000gn/T/ipykernel_97612/2144254990.py:2: MatplotlibDeprecationWarning: The get_cmap function was deprecated in Matplotlib 3.7 and will be removed two minor releases later. Use ``matplotlib.colormaps[name]`` or ``matplotlib.colormaps.get_cmap(obj)`` instead.\n",
      "  plt.scatter(lon_auv, lat_auv, c=sal_auv, cmap=get_cmap(\"BrBG\", 10), vmin=10, vmax=30)\n"
     ]
    },
    {
     "data": {
      "image/png": "[encoded data removed]",
      "text/plain": [
       "<Figure size 432x288 with 2 Axes>"
      ]
     },
     "metadata": {
      "needs_background": "light"
     },
     "output_type": "display_data"
    }
   ],
   "source": [
    "# plot salinity\n",
    "plt.scatter(lon_auv, lat_auv, c=sal_auv, cmap=get_cmap(\"BrBG\", 10), vmin=10, vmax=30)\n",
    "plt.colorbar()\n",
    "plt.show()\n",
    "\n",
    "# plot temperature\n",
    "# plt.scatter(lon_auv, lat_auv, c=temp_auv, cmap=get_cmap(\"RdBu\", 20))\n",
    "# plt.colorbar()\n",
    "# plt.show()"
   ]
  }
 ],
 "metadata": {
  "kernelspec": {
   "display_name": "MAFIA",
   "language": "python",
   "name": "python3"
  },
  "language_info": {
   "codemirror_mode": {
    "name": "ipython",
    "version": 3
   },
   "file_extension": ".py",
   "mimetype": "text/x-python",
   "name": "python",
   "nbconvert_exporter": "python",
   "pygments_lexer": "ipython3",
   "version": "3.11.3"
  }
 },
 "nbformat": 4,
 "nbformat_minor": 5
}
