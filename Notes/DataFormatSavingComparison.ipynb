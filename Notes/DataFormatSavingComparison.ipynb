{
 "cells": [
  {
   "cell_type": "code",
   "execution_count": 30,
   "id": "f8d66a01",
   "metadata": {
    "pycharm": {
     "name": "#%%\n"
    }
   },
   "outputs": [],
   "source": [
    "# Test different data format\n",
    "import numpy as np\n",
    "import pandas as pd\n",
    "import os\n",
    "import pickle\n",
    "\n",
    "\n",
    "\n",
    "x = np.random.rand(100000, 2)\n",
    "\n",
    "df = pd.DataFrame(x, columns=['x', 'y'])\n",
    "\n"
   ]
  },
  {
   "cell_type": "code",
   "execution_count": 31,
   "id": "81dfcd81",
   "metadata": {
    "pycharm": {
     "name": "#%%\n"
    }
   },
   "outputs": [
    {
     "name": "stdout",
     "output_type": "stream",
     "text": [
      "539 µs ± 38.8 µs per loop (mean ± std. dev. of 7 runs, 1000 loops each)\n",
      "428 µs ± 27 µs per loop (mean ± std. dev. of 7 runs, 1000 loops each)\n"
     ]
    }
   ],
   "source": [
    "%timeit df.to_pickle(\"test.pickle\")\n",
    "%timeit pd.read_pickle(\"test.pickle\")\n"
   ]
  },
  {
   "cell_type": "code",
   "execution_count": 32,
   "id": "3af6ffa8",
   "metadata": {
    "pycharm": {
     "name": "#%%\n"
    }
   },
   "outputs": [
    {
     "name": "stdout",
     "output_type": "stream",
     "text": [
      "3.43 ms ± 121 µs per loop (mean ± std. dev. of 7 runs, 100 loops each)\n",
      "437 µs ± 9.89 µs per loop (mean ± std. dev. of 7 runs, 1000 loops each)\n"
     ]
    }
   ],
   "source": [
    "%timeit np.save(\"test.npy\", x)\n",
    "%timeit np.load(\"test.npy\")"
   ]
  },
  {
   "cell_type": "code",
   "execution_count": 33,
   "id": "c94a184d",
   "metadata": {
    "pycharm": {
     "name": "#%%\n"
    }
   },
   "outputs": [
    {
     "name": "stdout",
     "output_type": "stream",
     "text": [
      "1.7 ms ± 95.8 µs per loop (mean ± std. dev. of 7 runs, 1000 loops each)\n",
      "246 µs ± 14.8 µs per loop (mean ± std. dev. of 7 runs, 1000 loops each)\n"
     ]
    }
   ],
   "source": [
    "def tf():\n",
    "    f = open(\"test.pickle\", \"wb\")\n",
    "    pickle.dump(x, f)\n",
    "    f.close()\n",
    "\n",
    "def rf():\n",
    "    f = open(\"test.pickle\", \"rb\")\n",
    "    pickle.load(f)\n",
    "    f.close()\n",
    "\n",
    "%timeit tf()\n",
    "%timeit rf()"
   ]
  },
  {
   "cell_type": "code",
   "execution_count": 34,
   "id": "3f1f8443",
   "metadata": {
    "pycharm": {
     "name": "#%%\n"
    }
   },
   "outputs": [
    {
     "name": "stdout",
     "output_type": "stream",
     "text": [
      "320 ms ± 8.03 ms per loop (mean ± std. dev. of 7 runs, 1 loop each)\n",
      "40.5 ms ± 775 µs per loop (mean ± std. dev. of 7 runs, 10 loops each)\n"
     ]
    }
   ],
   "source": [
    "%timeit df.to_csv('test.csv')\n",
    "%timeit pd.read_csv('test.csv')"
   ]
  },
  {
   "cell_type": "code",
   "execution_count": 25,
   "id": "c87f2321",
   "metadata": {
    "pycharm": {
     "name": "#%%\n"
    }
   },
   "outputs": [],
   "source": [
    "s0 = pd.read_pickle(\"test.pickle\")\n",
    "s1 = np.load(\"test.npy\")\n",
    "f = open(\"test.pickle\", \"rb\")\n",
    "s2 = pickle.load(f)\n",
    "f.close()\n",
    "\n",
    "s3 = pd.read_csv(\"test.csv\")\n"
   ]
  },
  {
   "cell_type": "code",
   "execution_count": 28,
   "id": "ff57a004",
   "metadata": {
    "pycharm": {
     "name": "#%%\n"
    }
   },
   "outputs": [
    {
     "name": "stdout",
     "output_type": "stream",
     "text": [
      "[[0.0279966  0.92450921]\n",
      " [0.918811   0.09919246]\n",
      " [0.97539216 0.35393516]\n",
      " ...\n",
      " [0.42397691 0.36200194]\n",
      " [0.92775406 0.2727583 ]\n",
      " [0.97324583 0.85087747]]\n"
     ]
    }
   ],
   "source": [
    "print(x)\n"
   ]
  },
  {
   "cell_type": "code",
   "execution_count": 29,
   "id": "226f4690",
   "metadata": {
    "pycharm": {
     "name": "#%%\n"
    }
   },
   "outputs": [
    {
     "data": {
      "text/html": [
       "<div>\n",
       "<style scoped>\n",
       "    .dataframe tbody tr th:only-of-type {\n",
       "        vertical-align: middle;\n",
       "    }\n",
       "\n",
       "    .dataframe tbody tr th {\n",
       "        vertical-align: top;\n",
       "    }\n",
       "\n",
       "    .dataframe thead th {\n",
       "        text-align: right;\n",
       "    }\n",
       "</style>\n",
       "<table border=\"1\" class=\"dataframe\">\n",
       "  <thead>\n",
       "    <tr style=\"text-align: right;\">\n",
       "      <th></th>\n",
       "      <th>x</th>\n",
       "      <th>y</th>\n",
       "    </tr>\n",
       "  </thead>\n",
       "  <tbody>\n",
       "    <tr>\n",
       "      <th>0</th>\n",
       "      <td>0.027997</td>\n",
       "      <td>0.924509</td>\n",
       "    </tr>\n",
       "    <tr>\n",
       "      <th>1</th>\n",
       "      <td>0.918811</td>\n",
       "      <td>0.099192</td>\n",
       "    </tr>\n",
       "    <tr>\n",
       "      <th>2</th>\n",
       "      <td>0.975392</td>\n",
       "      <td>0.353935</td>\n",
       "    </tr>\n",
       "    <tr>\n",
       "      <th>3</th>\n",
       "      <td>0.678275</td>\n",
       "      <td>0.270422</td>\n",
       "    </tr>\n",
       "    <tr>\n",
       "      <th>4</th>\n",
       "      <td>0.895940</td>\n",
       "      <td>0.360084</td>\n",
       "    </tr>\n",
       "    <tr>\n",
       "      <th>...</th>\n",
       "      <td>...</td>\n",
       "      <td>...</td>\n",
       "    </tr>\n",
       "    <tr>\n",
       "      <th>995</th>\n",
       "      <td>0.094825</td>\n",
       "      <td>0.465807</td>\n",
       "    </tr>\n",
       "    <tr>\n",
       "      <th>996</th>\n",
       "      <td>0.929882</td>\n",
       "      <td>0.320274</td>\n",
       "    </tr>\n",
       "    <tr>\n",
       "      <th>997</th>\n",
       "      <td>0.423977</td>\n",
       "      <td>0.362002</td>\n",
       "    </tr>\n",
       "    <tr>\n",
       "      <th>998</th>\n",
       "      <td>0.927754</td>\n",
       "      <td>0.272758</td>\n",
       "    </tr>\n",
       "    <tr>\n",
       "      <th>999</th>\n",
       "      <td>0.973246</td>\n",
       "      <td>0.850877</td>\n",
       "    </tr>\n",
       "  </tbody>\n",
       "</table>\n",
       "<p>1000 rows × 2 columns</p>\n",
       "</div>"
      ],
      "text/plain": [
       "            x         y\n",
       "0    0.027997  0.924509\n",
       "1    0.918811  0.099192\n",
       "2    0.975392  0.353935\n",
       "3    0.678275  0.270422\n",
       "4    0.895940  0.360084\n",
       "..        ...       ...\n",
       "995  0.094825  0.465807\n",
       "996  0.929882  0.320274\n",
       "997  0.423977  0.362002\n",
       "998  0.927754  0.272758\n",
       "999  0.973246  0.850877\n",
       "\n",
       "[1000 rows x 2 columns]"
      ]
     },
     "execution_count": 29,
     "metadata": {},
     "output_type": "execute_result"
    }
   ],
   "source": [
    "s2\n"
   ]
  },
  {
   "cell_type": "code",
   "execution_count": null,
   "id": "bafaf41b",
   "metadata": {
    "pycharm": {
     "name": "#%%\n"
    }
   },
   "outputs": [],
   "source": []
  }
 ],
 "metadata": {
  "kernelspec": {
   "display_name": "Python 3 (ipykernel)",
   "language": "python",
   "name": "python3"
  },
  "language_info": {
   "codemirror_mode": {
    "name": "ipython",
    "version": 3
   },
   "file_extension": ".py",
   "mimetype": "text/x-python",
   "name": "python",
   "nbconvert_exporter": "python",
   "pygments_lexer": "ipython3",
   "version": "3.9.7"
  }
 },
 "nbformat": 4,
 "nbformat_minor": 5
}